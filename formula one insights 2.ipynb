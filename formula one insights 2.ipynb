{
 "cells": [
  {
   "cell_type": "markdown",
   "id": "2274350a-0c7a-458d-b660-ac3e960924d0",
   "metadata": {},
   "source": [
    "# Formula One Insights with Pyton & SQL\n",
    "Since its inception in the 1950s, Formula One has represented the pinnacle of global motorsport, pushing the boundaries of racing and automotive engineering. This analysis leverages Python and SQL to uncover insights into the achievements of drivers and constructors across F1's decades-long history.\n",
    "\n",
    "*For a more detailed exploration, please refer to the accompanying PDF document. The comments within this Jupyter notebook are provided exclusively to explain the functionality of the code.*\n",
    "*The values and data in this Jupyter Notebook were last updated on the 17th of January 2025.*"
   ]
  },
  {
   "cell_type": "markdown",
   "id": "c86b40b1-d285-4dbb-ab81-5500d6ed1268",
   "metadata": {},
   "source": [
    "# Organizing the Notebook into Multiple Parts\n",
    "Due to the extensive code in this notebook, it has been divided into five parts. The first notebook focuses on retrieving data from the formula1.com website. The second notebook handles data retrieval from the F1DB database. The third notebook is dedicated to creating statistics and visualizations. The fourth notebook explores the question of who is the Greatest Driver of All Time. The fifth notebook consolidates multiple CSV files into separate Excel worksheets."
   ]
  },
  {
   "cell_type": "markdown",
   "id": "6aba37c0-1b0b-42cc-aaf7-077e24cd638c",
   "metadata": {},
   "source": [
    "# Data Retrieval from F1DB"
   ]
  },
  {
   "cell_type": "markdown",
   "id": "c2605d7c-5fa0-4cf4-b0bb-a3e13c978e19",
   "metadata": {},
   "source": [
    "# Importing Python Libraries\n",
    "This Jupyter notebook is designed to run on most modern Python installations. However, to ensure reproducibility, note that it was developed and tested with Python 3.12.3. The following libraries and their respective versions were used in this analysis:\n",
    "\n",
    "- pandas 2.2.2\n",
    "- requests 2.32.2"
   ]
  },
  {
   "cell_type": "code",
   "execution_count": 1,
   "id": "95674c46-0ada-4fef-ac57-b524663f3a1f",
   "metadata": {},
   "outputs": [
    {
     "name": "stdout",
     "output_type": "stream",
     "text": [
      "Libraries imported\n"
     ]
    }
   ],
   "source": [
    "# Import libraries\n",
    "import os\n",
    "import shutil\n",
    "import unicodedata\n",
    "import zipfile\n",
    "\n",
    "import pandas as pd\n",
    "import requests\n",
    "\n",
    "print(\"Libraries imported\")"
   ]
  },
  {
   "cell_type": "markdown",
   "id": "e6b3a677-4595-4f0f-bcbb-69166095eca8",
   "metadata": {},
   "source": [
    "# Data Collection - Retrieving Formula One Data from F1DB\n",
    "\n",
    "Scraping race and qualifying results for every round of every season would be excessively time-consuming, as the structure of the F1 website requires loading hundreds of individual pages. Instead, we utilize the excellent resources of F1DB, a comprehensive and free open-source database containing all-time Formula One data and statistics.\n",
    "\n",
    "The data, updated after the final Grand Prix of 2024, is freely available on GitHub. We retrieve it from the following URL: https://github.com/f1db/f1db/releases/download/v2024.24.2/f1db-csv.zip\n",
    "\n",
    "*After downloading, we retain only the relevant datasets needed for our analysis and discard the rest.*"
   ]
  },
  {
   "cell_type": "code",
   "execution_count": 2,
   "id": "ed5b5e6f-a0c5-4a4f-9b77-688dfee3204d",
   "metadata": {},
   "outputs": [
    {
     "name": "stdout",
     "output_type": "stream",
     "text": [
      "F1 data from F1DB retrieved and extracted to 'f1db' folder\n"
     ]
    }
   ],
   "source": [
    "# Define the F1DB directory\n",
    "f1db_dir = \"f1db\"\n",
    "os.makedirs(f1db_dir, exist_ok=True)\n",
    "\n",
    "# Download the ZIP file from GitHub\n",
    "url = \"https://github.com/f1db/f1db/releases/download/v2024.24.2/f1db-csv.zip\"\n",
    "zip_file_path = \"f1db-csv.zip\"\n",
    "response = requests.get(url)\n",
    "with open(zip_file_path, 'wb') as file:\n",
    "    file.write(response.content)\n",
    "\n",
    "# Extract the ZIP file\n",
    "extract_dir = f1db_dir\n",
    "with zipfile.ZipFile(zip_file_path, 'r') as zip_ref:\n",
    "    zip_ref.extractall(extract_dir)\n",
    "\n",
    "# Define the files to keep\n",
    "files_to_keep = {\n",
    "    \"f1db-circuits.csv\",\n",
    "    \"f1db-constructors.csv\",\n",
    "    \"f1db-drivers.csv\",\n",
    "    \"f1db-engine-manufacturers.csv\",\n",
    "    \"f1db-races-race-results.csv\",\n",
    "    \"f1db-races-starting-grid-positions.csv\",\n",
    "    \"f1db-races.csv\",\n",
    "    \"f1db-tyre-manufacturers.csv\"\n",
    "}\n",
    "\n",
    "# Remove unwanted files\n",
    "for root, _, files in os.walk(extract_dir):\n",
    "    for file in files:\n",
    "        if file not in files_to_keep:\n",
    "            os.remove(os.path.join(root, file))\n",
    "\n",
    "# Delete the ZIP file\n",
    "os.remove(zip_file_path)\n",
    "\n",
    "print(\"F1 data from F1DB retrieved and extracted to 'f1db' folder\")"
   ]
  },
  {
   "cell_type": "markdown",
   "id": "d9dd2750-7a8b-420b-977a-30513fc8d78e",
   "metadata": {},
   "source": [
    "# Data Cleaning and Preprocessing - Normalizing Text\n",
    "\n",
    "Similar to the datasets from formula1.com, some drivers' and constructors' names contain non-Latin characters, which may cause issues in later stages of analysis. To address this, we normalize all text by converting it into Unicode format to ensure consistency and compatibility."
   ]
  },
  {
   "cell_type": "code",
   "execution_count": 3,
   "id": "b76c5eb7-d6ce-4961-8ddf-5046bcf06f03",
   "metadata": {},
   "outputs": [
    {
     "name": "stdout",
     "output_type": "stream",
     "text": [
      "Processed file: f1db/f1db-circuits.csv\n",
      "Processed file: f1db/f1db-constructors.csv\n",
      "Processed file: f1db/f1db-drivers.csv\n",
      "Processed file: f1db/f1db-engine-manufacturers.csv\n",
      "Processed file: f1db/f1db-races.csv\n",
      "Processed file: f1db/f1db-races-race-results.csv\n",
      "Processed file: f1db/f1db-races-starting-grid-positions.csv\n",
      "Processed file: f1db/f1db-tyre-manufacturers.csv\n"
     ]
    }
   ],
   "source": [
    "# List of CSV files to edit\n",
    "csv_files = [\n",
    "    \"f1db/f1db-circuits.csv\",\n",
    "    \"f1db/f1db-constructors.csv\",\n",
    "    \"f1db/f1db-drivers.csv\",\n",
    "    \"f1db/f1db-engine-manufacturers.csv\",\n",
    "    \"f1db/f1db-races.csv\",\n",
    "    \"f1db/f1db-races-race-results.csv\",\n",
    "    \"f1db/f1db-races-starting-grid-positions.csv\",\n",
    "    \"f1db/f1db-tyre-manufacturers.csv\"\n",
    "]\n",
    "\n",
    "# Function to normalize text\n",
    "def normalize_text(text):\n",
    "    if isinstance(text, str):\n",
    "        return unicodedata.normalize('NFKD', text).encode('ASCII', 'ignore').decode('ASCII')\n",
    "    return text\n",
    "\n",
    "# Process each file\n",
    "for file_path in csv_files:\n",
    "    if os.path.exists(file_path):\n",
    "        data = pd.read_csv(file_path, low_memory=False)\n",
    "\n",
    "        # Normalize all string columns\n",
    "        for column in data.columns:\n",
    "            if data[column].dtype == 'object':\n",
    "                data[column] = data[column].apply(normalize_text)\n",
    "\n",
    "        # Save the updated file back\n",
    "        data.to_csv(file_path, index=False)\n",
    "        print(f\"Processed file: {file_path}\")"
   ]
  },
  {
   "cell_type": "markdown",
   "id": "35a6ef32-5a7f-43c6-820c-f215ce4053a9",
   "metadata": {},
   "source": [
    "# Data Cleaning and Preprocessing - Editing Race Results Dataset\n",
    "\n",
    "We retain only a subset of the columns from the original dataset, renaming them using PascalCase for consistency. Empty values in the \"Points\" and \"Laps\" columns are filled with zeros. Additionally, we manually correct certain constructor names and time values to ensure data accuracy."
   ]
  },
  {
   "cell_type": "code",
   "execution_count": 4,
   "id": "cdcd489c-eaaf-4df4-b7d9-2ad53c8a4a8f",
   "metadata": {},
   "outputs": [
    {
     "name": "stdout",
     "output_type": "stream",
     "text": [
      "Processed data saved to csv/race_results.csv\n"
     ]
    }
   ],
   "source": [
    "# Load the CSV file\n",
    "input_file = \"f1db/f1db-races-race-results.csv\"\n",
    "race_results = pd.read_csv(input_file, low_memory=False)\n",
    "\n",
    "# Keep specified columns and rename them\n",
    "columns_to_keep = [\n",
    "    \"year\", \"round\", \"positionDisplayOrder\", \"driverNumber\", \"driverId\", \n",
    "    \"constructorId\", \"engineManufacturerId\", \"tyreManufacturerId\", \"laps\", \"gap\", \n",
    "    \"positionText\", \"points\", \"time\"\n",
    "]\n",
    "race_results = race_results[columns_to_keep]\n",
    "\n",
    "columns_to_rename = {\n",
    "    \"year\": \"Season\",\n",
    "    \"round\": \"Round\",\n",
    "    \"positionDisplayOrder\": \"Position\",\n",
    "    \"driverNumber\": \"Number\",\n",
    "    \"driverId\": \"Driver\",\n",
    "    \"constructorId\": \"Constructor\",\n",
    "    \"engineManufacturerId\": \"Engine\",\n",
    "    \"tyreManufacturerId\": \"Tyre\",\n",
    "    \"laps\": \"Laps\",\n",
    "    \"gap\": \"Time\",\n",
    "    \"positionText\": \"PositionText\",\n",
    "    \"points\": \"Points\",\n",
    "    \"time\": \"OriginalTime\"\n",
    "}\n",
    "race_results = race_results.rename(columns=columns_to_rename)\n",
    "\n",
    "# Handle \"Retired\" column based on \"positionText\"\n",
    "race_results[\"Retired\"] = race_results[\"PositionText\"].apply(\n",
    "    lambda x: x if not x.isdigit() else None\n",
    ")\n",
    "\n",
    "# Fill empty Points with 0\n",
    "race_results[\"Points\"] = race_results[\"Points\"].fillna(0).astype(int)\n",
    "\n",
    "# Fill empty Laps with 0\n",
    "race_results[\"Laps\"] = race_results[\"Laps\"].fillna(0).astype(int)\n",
    "\n",
    "# Standardize names in \"Driver\", \"Constructor\", and \"EngineManufacturer\"\n",
    "def format_name(name):\n",
    "    return \" \".join(word.capitalize() for word in name.split(\"-\"))\n",
    "\n",
    "race_results[\"Driver\"] = race_results[\"Driver\"].apply(format_name)\n",
    "race_results[\"Constructor\"] = race_results[\"Constructor\"].apply(format_name)\n",
    "race_results[\"Engine\"] = race_results[\"Engine\"].apply(format_name)\n",
    "race_results[\"Tyre\"] = race_results[\"Tyre\"].apply(format_name)\n",
    "\n",
    "# Drop intermediate columns\n",
    "race_results = race_results.drop(columns=[\"PositionText\"], errors=\"ignore\")\n",
    "\n",
    "# Manually Correct some of the Car Entries\n",
    "\n",
    "# Define a list of words to capitalize\n",
    "capitalize_words = [\n",
    "    \"Ats\", \"Bmw\", \"Bpm\", \"Brm\", \"Bwt\", \"Emw\", \"Era\", \"Jap\", \"Osca\", \"Rbpt\", \"Tag\",\n",
    "    \"Afm\", \"Ags\", \"Bar\", \"Brp\", \"Enb\", \"Hrt\", \"Hwm\", \"Jbw\", \"Lds\", \"Lec\", \"Ram\", \"Rb\"\n",
    "]\n",
    "\n",
    "# Capitalize these words in the \"Car\" column\n",
    "def capitalize_team_names(car):\n",
    "    words = car.split()\n",
    "    return \" \".join(word.upper() if word in capitalize_words else word for word in words)\n",
    "\n",
    "race_results[\"Constructor\"] = race_results[\"Constructor\"].apply(capitalize_team_names)\n",
    "race_results[\"Engine\"] = race_results[\"Engine\"].apply(capitalize_team_names)\n",
    "\n",
    "# Manually edit constructor names\n",
    "constructor_replacements = {\n",
    "    \"Alphatauri\": \"Toro Rosso\",\n",
    "    \"Alpine\": \"Renault\",\n",
    "    \"ATS Wheels\": \"ATS\",\n",
    "    \"BMW Sauber\": \"Sauber\",\n",
    "    \"Footwork\": \"Arrows\",\n",
    "    \"Frank Williams Racing Cars\": \"Williams\",\n",
    "    \"Iso Marlboro\": \"Williams\",\n",
    "    \"Kick Sauber\": \"Sauber\",\n",
    "    \"Lotus F1\": \"Caterham\",\n",
    "    \"Lotus Racing\": \"Lotus\",\n",
    "    \"Racing Point\": \"Force India\",\n",
    "    \"RB\": \"Toro Rosso\",\n",
    "    \"Simca Gordini\": \"Simca-Gordini\",\n",
    "    \"Talbot Lago\": \"Talbot-Lago\",\n",
    "    \"Wolf Williams\": \"Williams\"\n",
    "}\n",
    "\n",
    "# Replace values in the \"Constructor\" column\n",
    "race_results[\"Constructor\"] = race_results[\"Constructor\"].replace(constructor_replacements)\n",
    "\n",
    "# Manually edit engine names\n",
    "engine_replacements = {\n",
    "    \"BWT Mercedes\": \"Mercedes\",\n",
    "    \"Honda RBPT\": \"RBPT\",\n",
    "    \"Mugen Honda\": \"Honda\",\n",
    "    \"Petronas\": \"Ferrari\",\n",
    "    \"Sauber\": \"Mercedes\",\n",
    "    \"TAG Heuer\": \"Renault\",\n",
    "}\n",
    "\n",
    "# Replace values in the \"Constructor\" column\n",
    "race_results[\"Engine\"] = race_results[\"Engine\"].replace(engine_replacements)\n",
    "\n",
    "# Create the \"Lapped\" column\n",
    "def extract_lapped(gap_value):\n",
    "    if pd.notna(gap_value) and \"lap\" in gap_value:\n",
    "        return int(gap_value.split()[0][1:])\n",
    "    return 0\n",
    "\n",
    "race_results[\"Lapped\"] = race_results[\"Time\"].apply(extract_lapped)\n",
    "\n",
    "# Directly copy values from the OriginalTime column to the Time column\n",
    "race_results[\"Time\"] = race_results[\"OriginalTime\"]\n",
    "\n",
    "# Manually Correct some of the Time entries\n",
    "\n",
    "# Dictionary for specific manual corrections\n",
    "manual_corrections = {\n",
    "    \"4:00:1.150\": \"4:00:01.150\",\n",
    "    \"4:00:7.150\": \"4:00:07.150\",\n",
    "    \"2:00:2.699\": \"2:00:02.699\",\n",
    "    \"2:00:2.600\": \"2:00:02.600\",\n",
    "    \"2:00:3.882\": \"2:00:03.882\",\n",
    "    \"2:00:4.803\": \"2:00:04.803\",\n",
    "    \"2:00:4.520\": \"2:00:04.520\",\n",
    "    \"2:00:5.995\": \"2:00:05.995\",\n",
    "    \"2:00:6.370\": \"2:00:06.370\",\n",
    "    \"2:00:2.206\": \"2:00:02.206\",\n",
    "    \"2:00:4.287\": \"2:00:04.287\",\n",
    "    \"2:00:6.291\": \"2:00:06.291\",\n",
    "    \"2:00:0.189\": \"2:00:00.189\",\n",
    "    \"3:00:6.883\": \"3:00:06.883\",\n",
    "    \"3:00:7.195\": \"3:00:07.195\"\n",
    "}\n",
    "\n",
    "# Function to correct time values\n",
    "def correct_time_format(time_value):\n",
    "    if pd.isna(time_value):\n",
    "        return time_value\n",
    "    time_str = str(time_value)\n",
    "    if len(time_str) == 8:\n",
    "        return f\"0:0{time_str}\"\n",
    "    elif len(time_str) == 9:\n",
    "        return f\"0:{time_str}\"\n",
    "    elif time_str in manual_corrections:\n",
    "        return manual_corrections[time_str]\n",
    "    return time_str\n",
    "\n",
    "# Apply the corrections\n",
    "race_results['Time'] = race_results['Time'].apply(correct_time_format)\n",
    "\n",
    "# Correct \"Carlos Sainz\" name\n",
    "race_results['Driver'] = race_results['Driver'].replace(\"Carlos Sainz Jr\", \"Carlos Sainz\")\n",
    "\n",
    "# Correct \"McLaren\" name\n",
    "race_results.replace(to_replace=\"Mclaren\", value=\"McLaren\", regex=True, inplace=True)\n",
    "\n",
    "# Reorder columns\n",
    "column_order = [\n",
    "    \"Season\", \"Round\", \"Position\", \"Number\", \"Driver\", \"Constructor\", \"Engine\", \"Tyre\",\n",
    "    \"Laps\", \"Time\", \"Lapped\", \"Retired\", \"Points\"\n",
    "]\n",
    "race_results = race_results[column_order]\n",
    "\n",
    "# Sort the dataset by Season, Round, and Position\n",
    "race_results = race_results.sort_values(by=[\"Season\", \"Round\", \"Position\"]).reset_index(drop=True)\n",
    "\n",
    "# Save the new dataset\n",
    "output_file = \"csv/race_results.csv\"\n",
    "race_results.to_csv(output_file, index=False, encoding=\"utf-8\")\n",
    "\n",
    "print(f\"Processed data saved to {output_file}\")"
   ]
  },
  {
   "cell_type": "markdown",
   "id": "0a34713a-56bf-4a97-9e81-5454a4e4b537",
   "metadata": {},
   "source": [
    "# Data Cleaning and Preprocessing - Editing Qualifying Results Dataset"
   ]
  },
  {
   "cell_type": "code",
   "execution_count": 5,
   "id": "d41b3759-836d-4474-acd6-fcf254d5625d",
   "metadata": {},
   "outputs": [
    {
     "name": "stdout",
     "output_type": "stream",
     "text": [
      "Processed data saved to csv/qualifying_results.csv\n"
     ]
    }
   ],
   "source": [
    "# Load the CSV file\n",
    "input_file = \"f1db/f1db-races-starting-grid-positions.csv\"\n",
    "qualifying_results = pd.read_csv(input_file, low_memory=False)\n",
    "\n",
    "# Keep specified columns and rename them\n",
    "columns_to_keep = [\n",
    "    \"year\", \"round\", \"positionDisplayOrder\", \"driverNumber\", \"driverId\", \n",
    "    \"constructorId\", \"engineManufacturerId\", \"tyreManufacturerId\", \"time\"\n",
    "]\n",
    "qualifying_results = qualifying_results[columns_to_keep]\n",
    "\n",
    "columns_to_rename = {\n",
    "    \"year\": \"Season\",\n",
    "    \"round\": \"Round\",\n",
    "    \"positionDisplayOrder\": \"Position\",\n",
    "    \"driverNumber\": \"Number\",\n",
    "    \"driverId\": \"Driver\",\n",
    "    \"constructorId\": \"Constructor\",\n",
    "    \"engineManufacturerId\": \"Engine\",\n",
    "    \"tyreManufacturerId\": \"Tyre\",\n",
    "    \"time\": \"Time\"\n",
    "}\n",
    "qualifying_results = qualifying_results.rename(columns=columns_to_rename)\n",
    "\n",
    "# Standardize names in \"Driver\", \"Constructor\", and \"EngineManufacturer\"\n",
    "def format_name(name):\n",
    "    return \" \".join(word.capitalize() for word in name.split(\"-\"))\n",
    "\n",
    "qualifying_results[\"Driver\"] = qualifying_results[\"Driver\"].apply(format_name)\n",
    "qualifying_results[\"Constructor\"] = qualifying_results[\"Constructor\"].apply(format_name)\n",
    "qualifying_results[\"Engine\"] = qualifying_results[\"Engine\"].apply(format_name)\n",
    "qualifying_results[\"Tyre\"] = qualifying_results[\"Tyre\"].apply(format_name)\n",
    "\n",
    "# Drop intermediate columns\n",
    "qualifying_results = qualifying_results.drop(columns=[\"positionText\"], errors=\"ignore\")\n",
    "\n",
    "# Manually Correct some of the Car Entries\n",
    "\n",
    "# Define a list of words to capitalize\n",
    "capitalize_words = [\n",
    "    \"Ats\", \"Bmw\", \"Bpm\", \"Brm\", \"Bwt\", \"Emw\", \"Era\", \"Jap\", \"Osca\", \"Rbpt\", \"Tag\",\n",
    "    \"Afm\", \"Ags\", \"Bar\", \"Brp\", \"Enb\", \"Hrt\", \"Hwm\", \"Jbw\", \"Lds\", \"Lec\", \"Ram\", \"Rb\"\n",
    "]\n",
    "\n",
    "# Capitalize these words in the \"Car\" column\n",
    "def capitalize_team_names(car):\n",
    "    words = car.split()\n",
    "    return \" \".join(word.upper() if word in capitalize_words else word for word in words)\n",
    "\n",
    "qualifying_results[\"Constructor\"] = qualifying_results[\"Constructor\"].apply(capitalize_team_names)\n",
    "qualifying_results[\"Engine\"] = qualifying_results[\"Engine\"].apply(capitalize_team_names)\n",
    "\n",
    "# Manually edit constructor names\n",
    "constructor_replacements = {\n",
    "    \"Alphatauri\": \"Toro Rosso\",\n",
    "    \"Alpine\": \"Renault\",\n",
    "    \"ATS Wheels\": \"ATS\",\n",
    "    \"BMW Sauber\": \"Sauber\",\n",
    "    \"Footwork\": \"Arrows\",\n",
    "    \"Frank Williams Racing Cars\": \"Williams\",\n",
    "    \"Iso Marlboro\": \"Williams\",\n",
    "    \"Kick Sauber\": \"Sauber\",\n",
    "    \"Lotus F1\": \"Caterham\",\n",
    "    \"Lotus Racing\": \"Lotus\",\n",
    "    \"Racing Point\": \"Force India\",\n",
    "    \"RB\": \"Toro Rosso\",\n",
    "    \"Simca Gordini\": \"Simca-Gordini\",\n",
    "    \"Talbot Lago\": \"Talbot-Lago\",\n",
    "    \"Wolf Williams\": \"Williams\"\n",
    "}\n",
    "\n",
    "# Replace values in the \"Constructor\" column\n",
    "qualifying_results[\"Constructor\"] = qualifying_results[\"Constructor\"].replace(constructor_replacements)\n",
    "\n",
    "# Manually edit engine names\n",
    "engine_replacements = {\n",
    "    \"BWT Mercedes\": \"Mercedes\",\n",
    "    \"Honda RBPT\": \"RBPT\",\n",
    "    \"Mugen Honda\": \"Honda\",\n",
    "    \"Petronas\": \"Ferrari\",\n",
    "    \"Sauber\": \"Mercedes\",\n",
    "    \"TAG Heuer\": \"Renault\",\n",
    "}\n",
    "\n",
    "# Replace values in the \"Constructor\" column\n",
    "qualifying_results[\"Engine\"] = qualifying_results[\"Engine\"].replace(engine_replacements)\n",
    "\n",
    "# Manually Correct some of the Time entries\n",
    "\n",
    "# Function to manually correct time values\n",
    "def correct_time_format(time_value):\n",
    "    if pd.isna(time_value):\n",
    "        return time_value\n",
    "    time_str = str(time_value)\n",
    "    if len(time_str) == 4:\n",
    "        return f\"0:{time_str}00\"\n",
    "    elif len(time_str) == 5:\n",
    "        return f\"0:{time_str}0\"\n",
    "    elif len(time_str) == 6:\n",
    "        return f\"0:{time_str}\"\n",
    "    return time_str\n",
    "\n",
    "# Apply the corrections\n",
    "qualifying_results['Time'] = qualifying_results['Time'].apply(correct_time_format)\n",
    "\n",
    "# Correct \"Carlos Sainz\" name\n",
    "qualifying_results['Driver'] = qualifying_results['Driver'].replace(\"Carlos Sainz Jr\", \"Carlos Sainz\")\n",
    "\n",
    "# Correct \"McLaren\" name\n",
    "qualifying_results.replace(to_replace=\"Mclaren\", value=\"McLaren\", regex=True, inplace=True)\n",
    "\n",
    "# Reorder columns\n",
    "column_order = [\n",
    "    \"Season\", \"Round\", \"Position\", \"Number\", \"Driver\", \"Constructor\", \"Engine\", \"Tyre\", \"Time\"\n",
    "]\n",
    "qualifying_results = qualifying_results[column_order]\n",
    "\n",
    "# Sort the dataset by Season, Round, and Position\n",
    "qualifying_results = qualifying_results.sort_values(by=[\"Season\", \"Round\", \"Position\"]).reset_index(drop=True)\n",
    "\n",
    "# Save the new dataset\n",
    "output_file = \"csv/qualifying_results.csv\"\n",
    "qualifying_results.to_csv(output_file, index=False, encoding=\"utf-8\")\n",
    "\n",
    "print(f\"Processed data saved to {output_file}\")"
   ]
  },
  {
   "cell_type": "markdown",
   "id": "81ecdf7a-c54d-4914-9973-0f484b663fad",
   "metadata": {},
   "source": [
    "# Data Cleaning and Preprocessing - Editing Drivers Dataset"
   ]
  },
  {
   "cell_type": "code",
   "execution_count": 6,
   "id": "f4f3ad20-d6f8-40d4-b8f0-8a6c1d98e6a0",
   "metadata": {},
   "outputs": [
    {
     "name": "stdout",
     "output_type": "stream",
     "text": [
      "Processed data saved to csv/drivers.csv\n"
     ]
    }
   ],
   "source": [
    "# Load the CSV file\n",
    "input_file = \"f1db/f1db-drivers.csv\"\n",
    "drivers = pd.read_csv(input_file)\n",
    "\n",
    "# Keep specified columns\n",
    "columns_to_keep = [\n",
    "    \"name\", \"abbreviation\", \"nationalityCountryId\"\n",
    "]\n",
    "drivers = drivers[columns_to_keep]\n",
    "\n",
    "# Rename the columns\n",
    "rename_columns = {\n",
    "    \"name\": \"Name\",\n",
    "    \"abbreviation\": \"Abbreviation\",\n",
    "    \"nationalityCountryId\": \"Country\"\n",
    "}\n",
    "drivers = drivers.rename(columns=rename_columns)\n",
    "\n",
    "# Format the Country column to replace dashes with spaces and capitalize the first letters\n",
    "drivers[\"Country\"] = drivers[\"Country\"].str.replace(\"-\", \" \").str.title()\n",
    "\n",
    "# Correct \"Carlos Sainz\" name\n",
    "drivers['Name'] = drivers['Name'].replace(\"Carlos Sainz Jr.\", \"Carlos Sainz\")\n",
    "\n",
    "# Correct \"McLaren\" name\n",
    "drivers.replace(to_replace=\"Mclaren\", value=\"McLaren\", regex=True, inplace=True)\n",
    "\n",
    "# Save the modified DataFrame to a new CSV file\n",
    "output_file = \"csv/drivers.csv\"\n",
    "drivers.to_csv(output_file, index=False, encoding=\"utf-8\")\n",
    "\n",
    "print(f\"Processed data saved to {output_file}\")"
   ]
  },
  {
   "cell_type": "markdown",
   "id": "064bc7f3-5570-411c-818e-a7c019289cf4",
   "metadata": {},
   "source": [
    "# Data Cleaning and Preprocessing - Editing Constructors Dataset"
   ]
  },
  {
   "cell_type": "code",
   "execution_count": 7,
   "id": "b9bb6028-8baa-49f2-bf40-04a978bbc9ee",
   "metadata": {},
   "outputs": [
    {
     "name": "stdout",
     "output_type": "stream",
     "text": [
      "Processed data saved to csv/constructors.csv\n"
     ]
    }
   ],
   "source": [
    "# Load the CSV file\n",
    "input_file = \"f1db/f1db-constructors.csv\"\n",
    "constructors = pd.read_csv(input_file)\n",
    "\n",
    "# Keep specified columns\n",
    "columns_to_keep = [\n",
    "    \"name\", \"fullName\", \"countryId\"\n",
    "]\n",
    "constructors = constructors[columns_to_keep]\n",
    "\n",
    "# Rename the columns\n",
    "rename_columns = {\n",
    "    \"name\": \"Name\",\n",
    "    \"fullName\": \"FullName\",\n",
    "    \"countryId\": \"Country\"\n",
    "}\n",
    "constructors = constructors.rename(columns=rename_columns)\n",
    "\n",
    "# Format the Country column to replace dashes with spaces and capitalize the first letters\n",
    "constructors[\"Country\"] = constructors[\"Country\"].str.replace(\"-\", \" \").str.title()\n",
    "\n",
    "# Correct \"McLaren\" name\n",
    "constructors.replace(to_replace=\"Mclaren\", value=\"McLaren\", regex=True, inplace=True)\n",
    "\n",
    "# Save the modified DataFrame to a new CSV file\n",
    "output_file = \"csv/constructors.csv\"\n",
    "constructors.to_csv(output_file, index=False, encoding=\"utf-8\")\n",
    "\n",
    "print(f\"Processed data saved to {output_file}\")"
   ]
  },
  {
   "cell_type": "markdown",
   "id": "be805131-c6d7-43c2-b725-c4c61e14435c",
   "metadata": {},
   "source": [
    "# Data Cleaning and Preprocessing - Editing Engine Manufacturers Dataset"
   ]
  },
  {
   "cell_type": "code",
   "execution_count": 8,
   "id": "ebc630e1-4b78-4288-9826-bab53e7f94ff",
   "metadata": {},
   "outputs": [
    {
     "name": "stdout",
     "output_type": "stream",
     "text": [
      "Processed data saved to csv/engine_manufacturers.csv\n"
     ]
    }
   ],
   "source": [
    "# Load the CSV file\n",
    "input_file = \"f1db/f1db-engine-manufacturers.csv\"\n",
    "engine_manufacturers = pd.read_csv(input_file)\n",
    "\n",
    "# Keep specified columns\n",
    "columns_to_keep = [\n",
    "    \"name\", \"countryId\"\n",
    "]\n",
    "engine_manufacturers = engine_manufacturers[columns_to_keep]\n",
    "\n",
    "# Rename the columns\n",
    "rename_columns = {\n",
    "    \"name\": \"Name\",\n",
    "    \"countryId\": \"Country\"\n",
    "}\n",
    "engine_manufacturers = engine_manufacturers.rename(columns=rename_columns)\n",
    "\n",
    "# Format the Country column to replace dashes with spaces and capitalize the first letters\n",
    "engine_manufacturers[\"Country\"] = engine_manufacturers[\"Country\"].str.replace(\"-\", \" \").str.title()\n",
    "\n",
    "# Save the modified DataFrame to a new CSV file\n",
    "output_file = \"csv/engine_manufacturers.csv\"\n",
    "engine_manufacturers.to_csv(output_file, index=False, encoding=\"utf-8\")\n",
    "\n",
    "print(f\"Processed data saved to {output_file}\")"
   ]
  },
  {
   "cell_type": "markdown",
   "id": "328e138d-0b6a-4de2-9a27-4f0880b104c5",
   "metadata": {},
   "source": [
    "# Data Cleaning and Preprocessing - Editing Tyre Manufacturers Dataset"
   ]
  },
  {
   "cell_type": "code",
   "execution_count": 9,
   "id": "7586fb80-1445-464c-97d4-61d00ddb8aa2",
   "metadata": {},
   "outputs": [
    {
     "name": "stdout",
     "output_type": "stream",
     "text": [
      "Processed data saved to csv/tyre_manufacturers.csv\n"
     ]
    }
   ],
   "source": [
    "# Load the CSV file\n",
    "input_file = \"f1db/f1db-tyre-manufacturers.csv\"\n",
    "tyre_manufacturers = pd.read_csv(input_file)\n",
    "\n",
    "# Keep the specified columns\n",
    "columns_to_keep = [\n",
    "    \"name\", \"countryId\"\n",
    "]\n",
    "tyre_manufacturers = tyre_manufacturers[columns_to_keep]\n",
    "\n",
    "# Rename the columns\n",
    "rename_columns = {\n",
    "    \"name\": \"Name\",\n",
    "    \"countryId\": \"Country\",\n",
    "}\n",
    "tyre_manufacturers = tyre_manufacturers.rename(columns=rename_columns)\n",
    "\n",
    "# Format the Country column to replace dashes with spaces and capitalize the first letters\n",
    "tyre_manufacturers[\"Country\"] = tyre_manufacturers[\"Country\"].str.replace(\"-\", \" \").str.title()\n",
    "\n",
    "# Save the modified DataFrame to a new CSV file\n",
    "output_file = \"csv/tyre_manufacturers.csv\"\n",
    "tyre_manufacturers.to_csv(output_file, index=False, encoding=\"utf-8\")\n",
    "\n",
    "print(f\"Processed data saved to {output_file}\")"
   ]
  },
  {
   "cell_type": "markdown",
   "id": "0c4004a4-0662-43cf-82cb-52bf6943c2d2",
   "metadata": {},
   "source": [
    "# Data Cleaning and Preprocessing - Editing Circuits Dataset"
   ]
  },
  {
   "cell_type": "code",
   "execution_count": 10,
   "id": "14e513c2-2ac4-429b-b0f1-b0f0cb6a9889",
   "metadata": {},
   "outputs": [
    {
     "name": "stdout",
     "output_type": "stream",
     "text": [
      "Processed data saved to csv/circuits.csv\n"
     ]
    }
   ],
   "source": [
    "# Load the CSV file\n",
    "input_file = \"f1db/f1db-circuits.csv\"\n",
    "circuits = pd.read_csv(input_file)\n",
    "\n",
    "# Remove the specified columns\n",
    "columns_to_remove = [\"id\", \"previousNames\", \"latitude\", \"longitude\", \"totalRacesHeld\"]\n",
    "circuits = circuits.drop(columns=columns_to_remove, errors=\"ignore\")\n",
    "\n",
    "# Rename the columns\n",
    "rename_columns = {\n",
    "    \"name\": \"Name\",\n",
    "    \"fullName\": \"FullName\",\n",
    "    \"type\": \"Type\",\n",
    "    \"placeName\": \"Location\",\n",
    "    \"countryId\": \"Country\"\n",
    "}\n",
    "circuits = circuits.rename(columns=rename_columns)\n",
    "\n",
    "# Adjust the Type column to capitalize only the first letter\n",
    "circuits[\"Type\"] = circuits[\"Type\"].str.capitalize()\n",
    "\n",
    "# Format the Country column to replace dashes with spaces and capitalize the first letters\n",
    "circuits[\"Country\"] = circuits[\"Country\"].str.replace(\"-\", \" \").str.title()\n",
    "\n",
    "# Save the modified DataFrame to a new CSV file\n",
    "output_file = \"csv/circuits.csv\"\n",
    "circuits.to_csv(output_file, index=False, encoding=\"utf-8\")\n",
    "\n",
    "print(f\"Processed data saved to {output_file}\")"
   ]
  },
  {
   "cell_type": "markdown",
   "id": "17855071-9068-446d-94a8-3ba04800f87d",
   "metadata": {},
   "source": [
    "# Data Cleaning and Preprocessing - Editing Races Dataset\n",
    "\n",
    "We apply manual corrections to a few Grand Prix names to ensure consistency and accuracy across the dataset."
   ]
  },
  {
   "cell_type": "code",
   "execution_count": 11,
   "id": "59558716-0a88-42ff-a961-8c7cea28b601",
   "metadata": {},
   "outputs": [
    {
     "name": "stdout",
     "output_type": "stream",
     "text": [
      "Processed data saved to csv/races.csv\n"
     ]
    }
   ],
   "source": [
    "# Load the CSV file\n",
    "input_file = \"f1db/f1db-races.csv\"\n",
    "races = pd.read_csv(input_file)\n",
    "\n",
    "# Remove the specified columns\n",
    "columns_to_remove = [\"id\", \"time\", \"qualifyingFormat\", \"sprintQualifyingFormat\", \n",
    "                     \"scheduledLaps\", \"scheduledDistance\", \"preQualifyingDate\", \"preQualifyingTime\", \n",
    "                     \"freePractice1Date\", \"freePractice1Time\", \"freePractice2Date\", \"freePractice2Time\", \n",
    "                     \"freePractice3Date\", \"freePractice3Time\", \"freePractice4Date\", \"freePractice4Time\", \n",
    "                     \"qualifying1Date\", \"qualifying1Time\", \"qualifying2Date\", \"qualifying2Time\", \n",
    "                     \"qualifyingDate\", \"qualifyingTime\", \"sprintQualifyingDate\", \"sprintQualifyingTime\", \n",
    "                     \"sprintRaceDate\", \"sprintRaceTime\", \"warmingUpDate\", \"warmingUpTime\"\n",
    "]\n",
    "races = races.drop(columns=columns_to_remove, errors=\"ignore\")\n",
    "\n",
    "# Rename the columns\n",
    "rename_columns = {\n",
    "    \"year\": \"Season\",\n",
    "    \"round\": \"Round\",\n",
    "    \"date\": \"Date\",\n",
    "    \"grandPrixId\": \"GrandPrix\",\n",
    "    \"officialName\": \"OfficialName\",\n",
    "    \"circuitId\": \"Circuit\",\n",
    "    \"circuitType\": \"Type\",\n",
    "    \"courseLength\": \"CircuitLength\",\n",
    "    \"laps\": \"Laps\",\n",
    "    \"distance\": \"Distance\",\n",
    "}\n",
    "races = races.rename(columns=rename_columns)\n",
    "\n",
    "# Adjust the Type column to capitalize only the first letter\n",
    "races[\"Type\"] = races[\"Type\"].str.capitalize()\n",
    "\n",
    "# Format columns to replace dashes with spaces and capitalize the first letters\n",
    "races[\"GrandPrix\"] = races[\"GrandPrix\"].str.replace(\"-\", \" \").str.title()\n",
    "races[\"Circuit\"] = races[\"Circuit\"].str.replace(\"-\", \" \").str.title()\n",
    "\n",
    "# Correct grand prix names\n",
    "races['GrandPrix'] = races['GrandPrix'].replace(\"Emilia Romagna\", \"Emilia-Romagna\")\n",
    "races['GrandPrix'] = races['GrandPrix'].replace(\"Caesars Palace\", \"Caesar's Palace\")\n",
    "\n",
    "# Correct circuit names\n",
    "races['Circuit'] = races['Circuit'].replace(\"Ain Diab\", \"Ain-Diab\")\n",
    "races['Circuit'] = races['Circuit'].replace(\"Dijon Prenois\", \"Dijon-Prenois\")\n",
    "races['Circuit'] = races['Circuit'].replace(\"Magny Cours\", \"Magny-Cours\")\n",
    "races['Circuit'] = races['Circuit'].replace(\"Mont Tremblant\", \"Mont-Tremblant\")\n",
    "races['Circuit'] = races['Circuit'].replace(\"Nivelles Baulers\", \"Nivelles-Baulers\")\n",
    "races['Circuit'] = races['Circuit'].replace(\"Rouen\", \"Rouen-Les-Essarts\")\n",
    "races['Circuit'] = races['Circuit'].replace(\"Spa Francorchamps\", \"Spa-Francorchamps\")\n",
    "\n",
    "# Reorder columns\n",
    "column_order = [\n",
    "    \"Season\", \"Round\", \"Date\", \"GrandPrix\", \"Circuit\", \"OfficialName\", \"Type\", \"Laps\", \"Distance\", \"CircuitLength\"\n",
    "]\n",
    "races = races[column_order]\n",
    "\n",
    "# Sort the dataset\n",
    "qualifying_results = qualifying_results.sort_values(by=[\"Season\", \"Round\"]).reset_index(drop=True)\n",
    "\n",
    "# Save the modified DataFrame to a new CSV file\n",
    "output_file = \"csv/races.csv\"\n",
    "races.to_csv(output_file, index=False, encoding=\"utf-8\")\n",
    "\n",
    "print(f\"Processed data saved to {output_file}\")"
   ]
  },
  {
   "cell_type": "markdown",
   "id": "6ba83f43-8e43-442d-8ddb-a12a0f20c213",
   "metadata": {},
   "source": [
    "# Data Cleaning and Preprocessing - Manually Changing \"United States\" to \"United States of America\"\n",
    "\n",
    "We standardize the country name to \"United States of America\" to ensure consistency between the datasets retrieved from the F1 website and subsequent datasets."
   ]
  },
  {
   "cell_type": "code",
   "execution_count": 12,
   "id": "298f0da4-3ef7-4514-a6c8-a7580e820786",
   "metadata": {},
   "outputs": [
    {
     "name": "stdout",
     "output_type": "stream",
     "text": [
      "Updated file: csv/circuits.csv\n",
      "Updated file: csv/constructors.csv\n",
      "Updated file: csv/drivers.csv\n",
      "Updated file: csv/engine_manufacturers.csv\n",
      "Updated file: csv/qualifying_results.csv\n",
      "Updated file: csv/race_results.csv\n",
      "Updated file: csv/races.csv\n",
      "Updated file: csv/tyre_manufacturers.csv\n"
     ]
    }
   ],
   "source": [
    "# List of CSV files to update\n",
    "csv_files = [\n",
    "    \"csv/circuits.csv\",\n",
    "    \"csv/constructors.csv\",\n",
    "    \"csv/drivers.csv\",\n",
    "    \"csv/engine_manufacturers.csv\",\n",
    "    \"csv/qualifying_results.csv\",\n",
    "    \"csv/race_results.csv\",\n",
    "    \"csv/races.csv\",\n",
    "    \"csv/tyre_manufacturers.csv\",\n",
    "]\n",
    "\n",
    "# Function to replace \"United States Of America\" with \"United States of America\"\n",
    "def update_us_name(file_path):\n",
    "    # Read the CSV file\n",
    "    df = pd.read_csv(file_path)\n",
    "    \n",
    "    # Replace \"United States Of America\" with \"United States of America\"\n",
    "    df.replace(to_replace=\"United States Of America\", value=\"United States of America\", inplace=True)\n",
    "    \n",
    "    # Save the updated dataframe back to the same CSV file\n",
    "    df.to_csv(file_path, index=False)\n",
    "    print(f\"Updated file: {file_path}\")\n",
    "\n",
    "# Apply the function to each file\n",
    "for file in csv_files:\n",
    "    update_us_name(file)"
   ]
  },
  {
   "cell_type": "markdown",
   "id": "58f6cdcd-85d9-4222-ba52-be542f5d92e3",
   "metadata": {},
   "source": [
    "# Data Cleaning and Preprocessing - Deleting the F1DB Folder"
   ]
  },
  {
   "cell_type": "code",
   "execution_count": 13,
   "id": "f8780b63-5c24-428a-976c-dd37603375c8",
   "metadata": {},
   "outputs": [
    {
     "name": "stdout",
     "output_type": "stream",
     "text": [
      "Folder 'f1db' has been removed\n"
     ]
    }
   ],
   "source": [
    "# Delete the F1DB Folder\n",
    "if os.path.exists(\"f1db\"):\n",
    "    shutil.rmtree(\"f1db\")\n",
    "    print(f\"Folder '{\"f1db\"}' has been removed\")\n",
    "else:\n",
    "    print(f\"Folder '{\"f1db\"}' does not exist\")"
   ]
  }
 ],
 "metadata": {
  "kernelspec": {
   "display_name": "Python 3 (ipykernel)",
   "language": "python",
   "name": "python3"
  },
  "language_info": {
   "codemirror_mode": {
    "name": "ipython",
    "version": 3
   },
   "file_extension": ".py",
   "mimetype": "text/x-python",
   "name": "python",
   "nbconvert_exporter": "python",
   "pygments_lexer": "ipython3",
   "version": "3.12.3"
  }
 },
 "nbformat": 4,
 "nbformat_minor": 5
}
