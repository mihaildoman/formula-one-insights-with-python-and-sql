{
 "cells": [
  {
   "cell_type": "markdown",
   "id": "4616f29e-32e8-40f6-b6b4-c8750cc87c50",
   "metadata": {},
   "source": [
    "# Formula One Insights with Pyton & SQL\n",
    "Since its inception in the 1950s, Formula One has represented the pinnacle of global motorsport, pushing the boundaries of racing and automotive engineering. This analysis leverages Python and SQL to uncover insights into the achievements of drivers and constructors across F1's decades-long history.\n",
    "\n",
    "*For a more detailed exploration, please refer to the accompanying PDF document. The comments within this Jupyter notebook are provided exclusively to explain the functionality of the code.*\n",
    "*The values and data in this Jupyter Notebook were last updated on the 17th of January 2025.*"
   ]
  },
  {
   "cell_type": "markdown",
   "id": "5610ba53-e4e1-4bd6-aa7b-2e4cbfa0af6d",
   "metadata": {},
   "source": [
    "# Organizing the Notebook into Multiple Parts\n",
    "Due to the extensive code in this notebook, it has been divided into five parts. The first notebook focuses on retrieving data from the formula1.com website. The second notebook handles data retrieval from the F1DB database. The third notebook is dedicated to creating statistics and visualizations. The fourth notebook explores the question of who is the Greatest Driver of All Time. The fifth notebook consolidates multiple CSV files into separate Excel worksheets."
   ]
  },
  {
   "cell_type": "markdown",
   "id": "326ab7fb-5944-4372-aea4-42e632f11d5b",
   "metadata": {},
   "source": [
    "# Combining Multiple CSV Files into Separate Excel Worksheets\n",
    "\n",
    "We are consolidating the numerous CSV files generated during our analysis into two Excel worksheets to facilitate easier data handling for the upcoming Tableau analysis in the next project. The *InitialDataSets* worksheet will include all the originally retrieved and cleaned files, while the *ResultsDataSets* worksheet will contain all the files produced from our various analyses."
   ]
  },
  {
   "cell_type": "markdown",
   "id": "e8e7001f-d451-4ec1-b24a-86b76744ca89",
   "metadata": {},
   "source": [
    "# Importing Python Libraries\n",
    "This Jupyter notebook is designed to run on most modern Python installations. However, to ensure reproducibility, note that it was developed and tested with Python 3.12.3. The following libraries and their respective versions were used in this analysis:\n",
    "\n",
    "- pandas 2.2.2\n",
    "- openpyxl 3.1.5"
   ]
  },
  {
   "cell_type": "code",
   "execution_count": 1,
   "id": "b97eabf8-a8b9-4001-b018-00b4dadf6cc1",
   "metadata": {},
   "outputs": [
    {
     "name": "stdout",
     "output_type": "stream",
     "text": [
      "Libraries imported\n"
     ]
    }
   ],
   "source": [
    "# Import libraries\n",
    "import os\n",
    "import pandas as pd\n",
    "from openpyxl import load_workbook\n",
    "from openpyxl.utils import get_column_letter\n",
    "from openpyxl.styles import Font, Alignment\n",
    "\n",
    "print(\"Libraries imported\")"
   ]
  },
  {
   "cell_type": "markdown",
   "id": "754a6c82-36d0-427b-bea1-1f9605925688",
   "metadata": {},
   "source": [
    "# Combining the *CSV* Folder\n",
    "\n",
    "This step consolidates the original retrieved datasets into a single Excel worksheet. Additionally, we will format the worksheet to enhance its readability and presentation."
   ]
  },
  {
   "cell_type": "code",
   "execution_count": 2,
   "id": "83b49cd8-5a3b-4a38-bd26-67da376265da",
   "metadata": {},
   "outputs": [
    {
     "name": "stdout",
     "output_type": "stream",
     "text": [
      "Formatted Excel file has been saved as excel/InitialDataSets.xlsx.\n"
     ]
    }
   ],
   "source": [
    "# Create Excel directory\n",
    "os.makedirs(\"excel\", exist_ok=True)\n",
    "\n",
    "# Folder containing the CSV files\n",
    "csv_folder = \"csv\"\n",
    "\n",
    "# Output Excel file\n",
    "output_excel = \"excel/InitialDataSets.xlsx\"\n",
    "\n",
    "# Create an Excel writer using openpyxl\n",
    "with pd.ExcelWriter(output_excel, engine='openpyxl') as writer:\n",
    "    # Iterate over all CSV files in the folder\n",
    "    for file in os.listdir(csv_folder):\n",
    "        if file.endswith(\".csv\"):\n",
    "            # Read the CSV file\n",
    "            file_path = os.path.join(csv_folder, file)\n",
    "            df = pd.read_csv(file_path)\n",
    "            \n",
    "            # Convert the file name to PascalCase for the sheet name\n",
    "            sheet_name = file.replace(\".csv\", \"\").replace(\"_\", \" \").title().replace(\" \", \"\")\n",
    "            \n",
    "            # Write the DataFrame to the Excel sheet\n",
    "            df.to_excel(writer, sheet_name=sheet_name, index=False)\n",
    "\n",
    "# Load the workbook to apply formatting\n",
    "wb = load_workbook(output_excel)\n",
    "\n",
    "# Iterate through all sheets to apply formatting\n",
    "for sheet in wb.sheetnames:\n",
    "    ws = wb[sheet]\n",
    "    \n",
    "    # Set font to Arial for all cells\n",
    "    arial_font = Font(name=\"Arial\", size=12)\n",
    "    for row in ws.iter_rows():\n",
    "        for cell in row:\n",
    "            cell.font = arial_font\n",
    "    \n",
    "    # Adjust column widths\n",
    "    for col in ws.columns:\n",
    "        max_length = 0\n",
    "        col_letter = get_column_letter(col[0].column)  # Get the column letter\n",
    "        for cell in col:\n",
    "            try:\n",
    "                if cell.value:\n",
    "                    max_length = max(max_length, len(str(cell.value)))\n",
    "            except:\n",
    "                pass\n",
    "        ws.column_dimensions[col_letter].width = max_length + 2  # Add extra space\n",
    "\n",
    "    # Remove borders for the header row\n",
    "    for cell in ws[1]:\n",
    "        cell.border = None\n",
    "\n",
    "# Save the workbook\n",
    "wb.save(output_excel)\n",
    "\n",
    "print(f\"Formatted Excel file has been saved as {output_excel}.\")"
   ]
  },
  {
   "cell_type": "markdown",
   "id": "6b0dbb83-ad15-40f7-82d9-bb3239e72a8a",
   "metadata": {},
   "source": [
    "# Combining the *Results* Folder\n",
    "\n",
    "Next, we consolidate all the datasets generated during our various analyses into a single, organized Excel worksheet."
   ]
  },
  {
   "cell_type": "code",
   "execution_count": 3,
   "id": "ed530e82-c0ea-44af-b2a3-b79c169d9728",
   "metadata": {},
   "outputs": [
    {
     "name": "stdout",
     "output_type": "stream",
     "text": [
      "Formatted Excel file has been saved as 'excel/ResultsDataSets.xlsx'.\n"
     ]
    }
   ],
   "source": [
    "# Folder containing the CSV files\n",
    "csv_folder = \"results\"\n",
    "\n",
    "# Output Excel file\n",
    "output_excel = \"excel/ResultsDataSets.xlsx\"\n",
    "\n",
    "# Create an Excel writer using openpyxl\n",
    "with pd.ExcelWriter(output_excel, engine='openpyxl') as writer:\n",
    "    # Iterate over all CSV files in the folder\n",
    "    for file in os.listdir(csv_folder):\n",
    "        if file.endswith(\".csv\"):\n",
    "            # Read the CSV file\n",
    "            file_path = os.path.join(csv_folder, file)\n",
    "            df = pd.read_csv(file_path)\n",
    "            \n",
    "            # Convert the file name to PascalCase for the sheet name\n",
    "            sheet_name = file.replace(\".csv\", \"\").replace(\"_\", \" \").title().replace(\" \", \"\")\n",
    "            \n",
    "            # Write the DataFrame to the Excel sheet\n",
    "            df.to_excel(writer, sheet_name=sheet_name, index=False)\n",
    "\n",
    "# Load the workbook to apply formatting\n",
    "wb = load_workbook(output_excel)\n",
    "\n",
    "# Iterate through all sheets to apply formatting\n",
    "for sheet in wb.sheetnames:\n",
    "    ws = wb[sheet]\n",
    "    \n",
    "    # Set font to Arial for all cells\n",
    "    arial_font = Font(name=\"Arial\", size=12)\n",
    "    for row in ws.iter_rows():\n",
    "        for cell in row:\n",
    "            cell.font = arial_font\n",
    "    \n",
    "    # Adjust column widths\n",
    "    for col in ws.columns:\n",
    "        max_length = 0\n",
    "        col_letter = get_column_letter(col[0].column)  # Get the column letter\n",
    "        for cell in col:\n",
    "            try:\n",
    "                if cell.value:\n",
    "                    max_length = max(max_length, len(str(cell.value)))\n",
    "            except:\n",
    "                pass\n",
    "        ws.column_dimensions[col_letter].width = max_length + 2  # Add extra space\n",
    "\n",
    "    # Remove borders for the header row\n",
    "    for cell in ws[1]:\n",
    "        cell.border = None\n",
    "\n",
    "# Save the workbook\n",
    "wb.save(output_excel)\n",
    "\n",
    "print(f\"Formatted Excel file has been saved as '{output_excel}'.\")"
   ]
  }
 ],
 "metadata": {
  "kernelspec": {
   "display_name": "Python 3 (ipykernel)",
   "language": "python",
   "name": "python3"
  },
  "language_info": {
   "codemirror_mode": {
    "name": "ipython",
    "version": 3
   },
   "file_extension": ".py",
   "mimetype": "text/x-python",
   "name": "python",
   "nbconvert_exporter": "python",
   "pygments_lexer": "ipython3",
   "version": "3.12.3"
  }
 },
 "nbformat": 4,
 "nbformat_minor": 5
}
