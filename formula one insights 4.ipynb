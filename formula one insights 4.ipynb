{
 "cells": [
  {
   "cell_type": "markdown",
   "id": "49064c19-2d47-41f5-89af-6774ca7a3d6d",
   "metadata": {},
   "source": [
    "# Formula One Insights with Pyton & SQL\n",
    "Since its inception in the 1950s, Formula One has represented the pinnacle of global motorsport, pushing the boundaries of racing and automotive engineering. This analysis leverages Python and SQL to uncover insights into the achievements of drivers and constructors across F1's decades-long history.\n",
    "\n",
    "*For a more detailed exploration, please refer to the accompanying PDF document. The comments within this Jupyter notebook are provided exclusively to explain the functionality of the code.*\n",
    "*The values and data in this Jupyter Notebook were last updated on the 17th of January 2025.*"
   ]
  },
  {
   "cell_type": "markdown",
   "id": "75b142dd-5854-431c-b988-2ed0827a44e4",
   "metadata": {},
   "source": [
    "# Organizing the Notebook into Multiple Parts\n",
    "Due to the extensive code in this notebook, it has been divided into five parts. The first notebook focuses on retrieving data from the formula1.com website. The second notebook handles data retrieval from the F1DB database. The third notebook is dedicated to creating statistics and visualizations. The fourth notebook explores the question of who is the Greatest Driver of All Time. The fifth notebook consolidates multiple CSV files into separate Excel worksheets."
   ]
  },
  {
   "cell_type": "markdown",
   "id": "863e8424-5b64-4ec7-b18e-3b45677bcae9",
   "metadata": {},
   "source": [
    "# The Greatest Driver of All Time\n",
    "The phrase \"greatest of all time\" is often heard in the world of Formula One. However, it is challenging to definitively identify a single driver as the GOAT, given how much the sport has evolved over the years. Would someone like Hamilton or Verstappen have been as competitive in the front-engine machinery of the 1950s? Could Lauda or Senna have matched the fitness and athleticism required of today’s drivers?\n",
    "\n",
    "While Lewis Hamilton is widely regarded as the greatest Formula One driver of all time, we will conduct a thought experiment. By considering a range of factors, we will develop a rating for each of the 12 Formula One eras. This rating will then be used as a multiplier to adjust and scale the achievements of each driver. Finally, we will analyze the results to see how they compare.\n",
    "\n",
    "*For more details, please refer to the final section of the accompanying PDF file.*"
   ]
  },
  {
   "cell_type": "markdown",
   "id": "388c8931-6853-4a56-8bf2-bd71af77200f",
   "metadata": {},
   "source": [
    "# Importing Python Libraries\n",
    "This Jupyter notebook is designed to run on most modern Python installations. However, to ensure reproducibility, note that it was developed and tested with Python 3.12.3. The following libraries and their respective versions were used in this analysis:\n",
    "\n",
    "- pandas 2.2.2\n",
    "- scikit-learn 1.5.0"
   ]
  },
  {
   "cell_type": "code",
   "execution_count": 1,
   "id": "4106dbaf-0ef8-4397-9192-813dfaaa0eb4",
   "metadata": {},
   "outputs": [
    {
     "name": "stdout",
     "output_type": "stream",
     "text": [
      "Libraries imported\n"
     ]
    }
   ],
   "source": [
    "# Import libraries\n",
    "import os\n",
    "import sqlite3\n",
    "import pandas as pd\n",
    "from sklearn.preprocessing import MinMaxScaler\n",
    "\n",
    "print(\"Libraries imported\")"
   ]
  },
  {
   "cell_type": "markdown",
   "id": "707c56f1-3d77-46ec-8b77-fe7f3e93dcf0",
   "metadata": {},
   "source": [
    "# Creating the GreatestOfAllTime Table\n",
    "We consolidate all the drivers from the previous top 10 classifications into a single table."
   ]
  },
  {
   "cell_type": "code",
   "execution_count": 2,
   "id": "22b7b1a1-e009-4c52-a792-25c733a445ef",
   "metadata": {},
   "outputs": [
    {
     "name": "stdout",
     "output_type": "stream",
     "text": [
      "GreatestOfAllTime table created and drivers inserted.\n"
     ]
    }
   ],
   "source": [
    "# Connect to the SQLite database\n",
    "conn = sqlite3.connect('formula one.db')\n",
    "cursor = conn.cursor()\n",
    "\n",
    "# Create the GreatestOfAllTime table\n",
    "create_table_query = '''\n",
    "CREATE TABLE IF NOT EXISTS GreatestOfAllTime (\n",
    "    Driver TEXT PRIMARY KEY,\n",
    "    ChampionshipWins INTEGER,\n",
    "    RaceWins INTEGER,\n",
    "    PolePositions INTEGER,\n",
    "    PodiumPositions INTEGER,\n",
    "    FastestLaps INTEGER\n",
    ");\n",
    "'''\n",
    "cursor.execute(create_table_query)\n",
    "\n",
    "# List of drivers to be included\n",
    "drivers = [\n",
    "    \"Michael Schumacher\", \"Lewis Hamilton\", \"Juan Manuel Fangio\", \"Sebastian Vettel\", \"Max Verstappen\", \n",
    "    \"Alain Prost\", \"Niki Lauda\", \"Nelson Piquet\", \"Jackie Stewart\", \"Jack Brabham\", \"Ayrton Senna\", \n",
    "    \"Fernando Alonso\", \"Nigel Mansell\", \"Jim Clark\", \"Nico Rosberg\", \"Kimi Raikkonen\", \n",
    "    \"Rubens Barrichello\", \"Valtteri Bottas\", \"Mika Hakkinen\"\n",
    "]\n",
    "\n",
    "# Insert drivers into the table with default values\n",
    "for driver in drivers:\n",
    "    insert_query = '''\n",
    "    INSERT OR IGNORE INTO GreatestOfAllTime (Driver, ChampionshipWins, RaceWins, PolePositions, PodiumPositions, FastestLaps)\n",
    "    VALUES (?, 0, 0, 0, 0, 0);\n",
    "    '''\n",
    "    cursor.execute(insert_query, (driver,))\n",
    "\n",
    "# Commit the transaction and close the connection\n",
    "conn.commit()\n",
    "conn.close()\n",
    "\n",
    "print(\"GreatestOfAllTime table created and drivers inserted.\")"
   ]
  },
  {
   "cell_type": "markdown",
   "id": "404306f4-6764-4515-96ed-536b96bc78d8",
   "metadata": {},
   "source": [
    "# Populating the GreatestOfAllTime Table with Driver Achievements\n",
    "We populate the table columns with the drivers’ achievements, retrieving the data from other tables in the database. Additionally, we create a DriverRating column, which represents the sum of all achievements a driver has accomplished."
   ]
  },
  {
   "cell_type": "code",
   "execution_count": 3,
   "id": "0a7e2a4e-753d-4f0b-8ed2-d4d9cba288e6",
   "metadata": {},
   "outputs": [
    {
     "name": "stdout",
     "output_type": "stream",
     "text": [
      "GreatestOfAllTime table has been updated with statistics and DriverRating.\n"
     ]
    }
   ],
   "source": [
    "# Connect to the SQLite database\n",
    "conn = sqlite3.connect('formula one.db')\n",
    "cursor = conn.cursor()\n",
    "\n",
    "# Check if the DriverRating column already exists\n",
    "cursor.execute(\"\"\"\n",
    "    SELECT 1 FROM pragma_table_info('GreatestOfAllTime') WHERE name = 'DriverRating'\n",
    "\"\"\")\n",
    "column_exists = cursor.fetchone()\n",
    "\n",
    "# Add the column only if it does not exist\n",
    "if not column_exists:\n",
    "    cursor.execute(\"ALTER TABLE GreatestOfAllTime ADD COLUMN DriverRating INTEGER\")\n",
    "\n",
    "# Populate ChampionshipWins\n",
    "cursor.execute(\"\"\"\n",
    "    UPDATE GreatestOfAllTime\n",
    "    SET ChampionshipWins = (\n",
    "        SELECT COUNT(*)\n",
    "        FROM DriverStandings\n",
    "        WHERE DriverStandings.Driver = GreatestOfAllTime.Driver\n",
    "          AND Position = 1\n",
    "    )\n",
    "\"\"\")\n",
    "\n",
    "# Populate RaceWins\n",
    "cursor.execute(\"\"\"\n",
    "    UPDATE GreatestOfAllTime\n",
    "    SET RaceWins = (\n",
    "        SELECT COUNT(*)\n",
    "        FROM RaceWinners\n",
    "        WHERE RaceWinners.Driver = GreatestOfAllTime.Driver\n",
    "    )\n",
    "\"\"\")\n",
    "\n",
    "# Populate PolePositions\n",
    "cursor.execute(\"\"\"\n",
    "    UPDATE GreatestOfAllTime\n",
    "    SET PolePositions = (\n",
    "        SELECT COUNT(*)\n",
    "        FROM QualifyingResults\n",
    "        WHERE QualifyingResults.Driver = GreatestOfAllTime.Driver\n",
    "          AND Position = 1\n",
    "    )\n",
    "\"\"\")\n",
    "\n",
    "# Populate PodiumPositions\n",
    "cursor.execute(\"\"\"\n",
    "    UPDATE GreatestOfAllTime\n",
    "    SET PodiumPositions = (\n",
    "        SELECT COUNT(*)\n",
    "        FROM RaceResults\n",
    "        WHERE RaceResults.Driver = GreatestOfAllTime.Driver\n",
    "          AND Position IN (1, 2, 3)\n",
    "    )\n",
    "\"\"\")\n",
    "\n",
    "# Populate FastestLaps\n",
    "cursor.execute(\"\"\"\n",
    "    UPDATE GreatestOfAllTime\n",
    "    SET FastestLaps = (\n",
    "        SELECT COUNT(*)\n",
    "        FROM FastestLaps\n",
    "        WHERE FastestLaps.Driver = GreatestOfAllTime.Driver\n",
    "    )\n",
    "\"\"\")\n",
    "\n",
    "# Populate DriverRating by summing the relevant columns\n",
    "cursor.execute(\"\"\"\n",
    "    UPDATE GreatestOfAllTime\n",
    "    SET DriverRating = \n",
    "        ChampionshipWins + RaceWins + PolePositions + PodiumPositions + FastestLaps\n",
    "\"\"\")\n",
    "\n",
    "# Commit the changes and close the connection\n",
    "conn.commit()\n",
    "conn.close()\n",
    "\n",
    "print(\"GreatestOfAllTime table has been updated with statistics and DriverRating.\")"
   ]
  },
  {
   "cell_type": "markdown",
   "id": "730e906d-5700-45dc-b22d-1d5a3fdc40f8",
   "metadata": {},
   "source": [
    "# Calculating Ratings for each Formula One Era\n",
    "We load the manually edited *era ratings.csv* file, normalize the values, and invert the scales for specific columns as needed."
   ]
  },
  {
   "cell_type": "code",
   "execution_count": 4,
   "id": "2bd7f929-6a9c-4808-9fe4-123fa35b7de1",
   "metadata": {},
   "outputs": [
    {
     "name": "stdout",
     "output_type": "stream",
     "text": [
      "                                                  Era  EraRatingNormalized\n",
      "0              1950-1957: Front-Engine / Factory Cars                 1.00\n",
      "1          1958-1961: Rear-Mid Engine / British Teams                 0.82\n",
      "2        1962-1967: 1.5L Engines / Anglophone Drivers                 0.57\n",
      "3   1968-1976: 12-Cylinder Engines / Sponsors / Sa...                 0.61\n",
      "4                            1977-1982: Ground-Effect                 0.63\n",
      "5                1983-1988: 1.5L Turbocharged Engines                 0.38\n",
      "6         1989-1994: 3.5L Naturally Aspirated Engines                 0.53\n",
      "7                               1995-1999: 3L Engines                 0.12\n",
      "8                              2000-2005: V10 Engines                 0.23\n",
      "9                          2006-2013: 2.4L V8 Engines                 0.25\n",
      "10               2014-2021: 1.6L Turbocharged Engines                 0.01\n",
      "11            2022-2025: Ground-Effect / Aero Changes                 0.00\n"
     ]
    }
   ],
   "source": [
    "# Load the era ratings file into a DataFrame\n",
    "file_path = \"era ratings.csv\"\n",
    "df = pd.read_csv(file_path)\n",
    "\n",
    "# Select the numerical columns\n",
    "columns_to_normalize = ['DriversPerEra', 'ConstructorsPerEra', 'RoundsPerEra', 'OverallSafety', 'SpeedAndManeuverability']\n",
    "\n",
    "# Create a scaler object\n",
    "scaler = MinMaxScaler()\n",
    "\n",
    "# Normalize the columns\n",
    "df_normalized = df.copy()\n",
    "df_normalized[columns_to_normalize] = scaler.fit_transform(df[columns_to_normalize])\n",
    "\n",
    "# Invert scales for RoundsPerEra, OverallSafety, SpeedAndManeuverability\n",
    "columns_to_invert = ['RoundsPerEra', 'OverallSafety', 'SpeedAndManeuverability']\n",
    "df_normalized[columns_to_invert] = 1 - df_normalized[columns_to_invert]\n",
    "\n",
    "# Calculate EraRating\n",
    "df_normalized['EraRating'] = df_normalized[columns_to_normalize].sum(axis=1)\n",
    "\n",
    "# Normalize EraRating\n",
    "df_normalized['EraRatingNormalized'] = scaler.fit_transform(df_normalized[['EraRating']])\n",
    "\n",
    "# Print the final ratings\n",
    "print(df_normalized[['Era', 'EraRatingNormalized']].round(2))"
   ]
  },
  {
   "cell_type": "markdown",
   "id": "3c0a5940-8860-466d-b4ab-7c23432c5def",
   "metadata": {},
   "source": [
    "# Scaling the Original Driver Ratings\n",
    "We apply the era ratings calculated above to scale the achievements of drivers in the GreatestOfAllTime table. Since most drivers competed across multiple eras, we calculate average era ratings for each driver. Using a simple formula, we adjust the original values and display the newly scaled results."
   ]
  },
  {
   "cell_type": "code",
   "execution_count": 5,
   "id": "96c67215-9bef-4c3e-8899-3f78b699d144",
   "metadata": {},
   "outputs": [
    {
     "name": "stdout",
     "output_type": "stream",
     "text": [
      "                Driver  ChampionshipWins  RaceWins  PolePositions  \\\n",
      "0   Michael Schumacher              8.98    116.71          87.21   \n",
      "1       Lewis Hamilton              7.61    114.09         113.01   \n",
      "2   Juan Manuel Fangio              9.55     45.84          55.39   \n",
      "3     Sebastian Vettel              4.35     57.59          61.94   \n",
      "4       Max Verstappen              4.02     63.31          40.20   \n",
      "5          Alain Prost              6.05     77.18          49.94   \n",
      "6           Niki Lauda              4.62     38.50          36.96   \n",
      "7        Nelson Piquet              4.54     34.81          36.32   \n",
      "8       Jackie Stewart              4.77     42.93          27.03   \n",
      "9         Jack Brabham              5.25     24.50          22.75   \n",
      "10        Ayrton Senna              4.23     57.79          91.62   \n",
      "11     Fernando Alonso              2.25     35.92          24.70   \n",
      "12       Nigel Mansell              1.42     43.87          45.28   \n",
      "13           Jim Clark              3.20     40.00          52.80   \n",
      "14        Nico Rosberg              1.13     25.99          33.90   \n",
      "15      Kimi Raikkonen              1.16     24.43          20.94   \n",
      "16  Rubens Barrichello              0.00     14.11          17.95   \n",
      "17     Valtteri Bottas              0.00     10.87          21.73   \n",
      "18       Mika Hakkinen              2.59     25.87          33.63   \n",
      "\n",
      "    PodiumPositions  FastestLaps  DriverRating  \n",
      "0            198.79        98.75        510.44  \n",
      "1            219.49        71.72        525.91  \n",
      "2             66.85        42.02        219.65  \n",
      "3            132.57        41.29        297.73  \n",
      "4            112.56        33.16        253.26  \n",
      "5            160.41        62.05        355.63  \n",
      "6             83.16        36.96        200.20  \n",
      "7             90.80        34.81        201.27  \n",
      "8             68.37        23.85        166.95  \n",
      "9             54.25        15.75        122.50  \n",
      "10           112.76        28.19        294.59  \n",
      "11           118.98        28.06        209.91  \n",
      "12            83.48        42.45        216.50  \n",
      "13            51.20        44.80        191.99  \n",
      "14            64.41        22.60        148.03  \n",
      "15           119.82        53.51        219.86  \n",
      "16            87.21        21.80        141.07  \n",
      "17            72.80        20.65        126.05  \n",
      "18            65.96        32.33        160.37  \n"
     ]
    }
   ],
   "source": [
    "# Connect to the SQLite database\n",
    "conn = sqlite3.connect('formula one.db')\n",
    "\n",
    "# Extract the GreatestOfAllTime table into a Pandas DataFrame\n",
    "query = \"SELECT * FROM GreatestOfAllTime\"\n",
    "goat_df = pd.read_sql_query(query, conn)\n",
    "\n",
    "# Convert all numerical columns to float\n",
    "numerical_columns = goat_df.select_dtypes(include=['int64', 'float64']).columns\n",
    "goat_df[numerical_columns] = goat_df[numerical_columns].astype(float)\n",
    "\n",
    "# Close the connection\n",
    "conn.close()\n",
    "\n",
    "# Define the multipliers for each driver\n",
    "\n",
    "# For Senna and Clark, we apply a 10% increase to account for their untimely deaths, \n",
    "# as they likely would have raced longer and achieved more results\n",
    "row_multipliers = {\n",
    "    \"Michael Schumacher\": 0.2825,\n",
    "    \"Lewis Hamilton\": 0.0866,\n",
    "    \"Juan Manuel Fangio\": 0.9100,\n",
    "    \"Sebastian Vettel\": 0.0866,\n",
    "    \"Max Verstappen\": 0.0050,\n",
    "    \"Alain Prost\": 0.5133,\n",
    "    \"Niki Lauda\": 0.5400,\n",
    "    \"Nelson Piquet\": 0.5133,\n",
    "    \"Jackie Stewart\": 0.5900,\n",
    "    \"Jack Brabham\": 0.7500,\n",
    "    \"Ayrton Senna\": 0.4095, # Initial value 0.4550\n",
    "    \"Fernando Alonso\": 0.1225,\n",
    "    \"Nigel Mansell\": 0.4150,\n",
    "    \"Jim Clark\": 0.5999, # Initial value 0.6666\n",
    "    \"Nico Rosberg\": 0.1300,\n",
    "    \"Kimi Raikkonen\": 0.1633,\n",
    "    \"Rubens Barrichello\": 0.2825,\n",
    "    \"Valtteri Bottas\": 0.0866,\n",
    "    \"Mika Hakkinen\": 0.2933\n",
    "}\n",
    "\n",
    "# Apply the scaling formula to each row based on the driver\n",
    "columns_to_scale = [\"ChampionshipWins\", \"RaceWins\", \"PolePositions\", \"PodiumPositions\", \"FastestLaps\", \"DriverRating\"]\n",
    "for index, row in goat_df.iterrows():\n",
    "    driver = row[\"Driver\"]\n",
    "    if driver in row_multipliers:\n",
    "        multiplier = row_multipliers[driver]\n",
    "        for column in columns_to_scale:\n",
    "            scaled_value = round(row[column] + row[column] * multiplier, 2)\n",
    "            goat_df.at[index, column] = scaled_value\n",
    "\n",
    "# Display the scaled results\n",
    "print(goat_df)"
   ]
  },
  {
   "cell_type": "markdown",
   "id": "8671febb-c118-4d22-aa3e-1b665a39cf58",
   "metadata": {},
   "source": [
    "# Creating the GreatestOfAllTime Table\n",
    "We add the drivers' scaled results to the database."
   ]
  },
  {
   "cell_type": "code",
   "execution_count": 6,
   "id": "b9dc5101-c12a-4268-91a0-08e0b0d126c1",
   "metadata": {},
   "outputs": [
    {
     "name": "stdout",
     "output_type": "stream",
     "text": [
      "GreatestOfAllTimeScaled table has been successfully created in the database.\n"
     ]
    }
   ],
   "source": [
    "# Connect to the SQLite database\n",
    "conn = sqlite3.connect('formula one.db')\n",
    "\n",
    "# Save the DataFrame as a new table in the database\n",
    "goat_df.to_sql('GreatestOfAllTimeScaled', conn, if_exists='replace', index=False)\n",
    "\n",
    "# Close the connection\n",
    "conn.close()\n",
    "\n",
    "print(\"GreatestOfAllTimeScaled table has been successfully created in the database.\")"
   ]
  }
 ],
 "metadata": {
  "kernelspec": {
   "display_name": "Python 3 (ipykernel)",
   "language": "python",
   "name": "python3"
  },
  "language_info": {
   "codemirror_mode": {
    "name": "ipython",
    "version": 3
   },
   "file_extension": ".py",
   "mimetype": "text/x-python",
   "name": "python",
   "nbconvert_exporter": "python",
   "pygments_lexer": "ipython3",
   "version": "3.12.3"
  }
 },
 "nbformat": 4,
 "nbformat_minor": 5
}
